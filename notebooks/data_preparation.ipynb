{
 "cells": [
  {
   "cell_type": "code",
   "execution_count": 1,
   "metadata": {},
   "outputs": [],
   "source": [
    "import pandas as pd\n",
    "import numpy as np\n",
    "import matplotlib.pyplot as plt\n",
    "import seaborn as sns\n",
    "import os\n",
    "import re\n",
    "\n",
    "# for relative imports\n",
    "import sys\n",
    "sys.path.insert(0, '..')\n",
    "from src.data.text_2_dataframe import Text2DF"
   ]
  },
  {
   "attachments": {},
   "cell_type": "markdown",
   "metadata": {},
   "source": [
    "# Initialisation\n",
    "## data paths"
   ]
  },
  {
   "cell_type": "code",
   "execution_count": 2,
   "metadata": {},
   "outputs": [],
   "source": [
    "# tweets dataset path\n",
    "raw_data_file_path= os.path.abspath('../data/raw/twitter_sample_dataset.csv')"
   ]
  },
  {
   "attachments": {},
   "cell_type": "markdown",
   "metadata": {},
   "source": [
    "## Data read"
   ]
  },
  {
   "cell_type": "code",
   "execution_count": 3,
   "metadata": {},
   "outputs": [
    {
     "data": {
      "text/html": [
       "<div>\n",
       "<style scoped>\n",
       "    .dataframe tbody tr th:only-of-type {\n",
       "        vertical-align: middle;\n",
       "    }\n",
       "\n",
       "    .dataframe tbody tr th {\n",
       "        vertical-align: top;\n",
       "    }\n",
       "\n",
       "    .dataframe thead th {\n",
       "        text-align: right;\n",
       "    }\n",
       "</style>\n",
       "<table border=\"1\" class=\"dataframe\">\n",
       "  <thead>\n",
       "    <tr style=\"text-align: right;\">\n",
       "      <th></th>\n",
       "      <th>Sentiment</th>\n",
       "      <th>tweet</th>\n",
       "    </tr>\n",
       "  </thead>\n",
       "  <tbody>\n",
       "    <tr>\n",
       "      <th>0</th>\n",
       "      <td>0</td>\n",
       "      <td>@Nkluvr4eva My poor little dumpling  In Holmde...</td>\n",
       "    </tr>\n",
       "    <tr>\n",
       "      <th>1</th>\n",
       "      <td>0</td>\n",
       "      <td>I'm off too bed. I gotta wake up hella early t...</td>\n",
       "    </tr>\n",
       "    <tr>\n",
       "      <th>2</th>\n",
       "      <td>0</td>\n",
       "      <td>I havent been able to listen to it yet  My spe...</td>\n",
       "    </tr>\n",
       "    <tr>\n",
       "      <th>3</th>\n",
       "      <td>0</td>\n",
       "      <td>now remembers why solving a relatively big equ...</td>\n",
       "    </tr>\n",
       "    <tr>\n",
       "      <th>4</th>\n",
       "      <td>0</td>\n",
       "      <td>Ate too much, feel sick</td>\n",
       "    </tr>\n",
       "  </tbody>\n",
       "</table>\n",
       "</div>"
      ],
      "text/plain": [
       "   Sentiment                                              tweet\n",
       "0          0  @Nkluvr4eva My poor little dumpling  In Holmde...\n",
       "1          0  I'm off too bed. I gotta wake up hella early t...\n",
       "2          0  I havent been able to listen to it yet  My spe...\n",
       "3          0  now remembers why solving a relatively big equ...\n",
       "4          0                           Ate too much, feel sick "
      ]
     },
     "execution_count": 3,
     "metadata": {},
     "output_type": "execute_result"
    }
   ],
   "source": [
    "raw_data= pd.read_csv(raw_data_file_path)\n",
    "raw_data.head()"
   ]
  },
  {
   "attachments": {},
   "cell_type": "markdown",
   "metadata": {},
   "source": [
    "# EDA of Raw Data\n",
    "## dataset shape"
   ]
  },
  {
   "cell_type": "code",
   "execution_count": 4,
   "metadata": {},
   "outputs": [
    {
     "data": {
      "text/plain": [
       "(48000, 2)"
      ]
     },
     "execution_count": 4,
     "metadata": {},
     "output_type": "execute_result"
    }
   ],
   "source": [
    "raw_data.shape"
   ]
  },
  {
   "attachments": {},
   "cell_type": "markdown",
   "metadata": {},
   "source": [
    "the dataset have:\n",
    "- **48000** rows or tweets\n",
    "- **2** columns which are :\n",
    "  - ***Sentiment***: expressing the overall sentiment (*negative* or *positive*) \n",
    "  - ***tweet***: the tweet content "
   ]
  },
  {
   "attachments": {},
   "cell_type": "markdown",
   "metadata": {},
   "source": [
    "## missing values"
   ]
  },
  {
   "cell_type": "code",
   "execution_count": 5,
   "metadata": {},
   "outputs": [
    {
     "data": {
      "text/plain": [
       "Sentiment    0\n",
       "tweet        0\n",
       "dtype: int64"
      ]
     },
     "execution_count": 5,
     "metadata": {},
     "output_type": "execute_result"
    }
   ],
   "source": [
    "raw_data.isna().sum()"
   ]
  },
  {
   "attachments": {},
   "cell_type": "markdown",
   "metadata": {},
   "source": [
    "There is no missing values for the two columns\\\n",
    "the columns may be split into :\n",
    "- ***Target*** --> y --> Sentiment\n",
    "- ***Feature*** --> X --> tweet "
   ]
  },
  {
   "cell_type": "code",
   "execution_count": 6,
   "metadata": {},
   "outputs": [],
   "source": [
    "y= raw_data['Sentiment']\n",
    "X= raw_data['tweet']"
   ]
  },
  {
   "attachments": {},
   "cell_type": "markdown",
   "metadata": {},
   "source": [
    "## Target exploration"
   ]
  },
  {
   "cell_type": "code",
   "execution_count": 7,
   "metadata": {},
   "outputs": [
    {
     "data": {
      "text/plain": [
       "1    0.500146\n",
       "0    0.499854\n",
       "Name: Sentiment, dtype: float64"
      ]
     },
     "execution_count": 7,
     "metadata": {},
     "output_type": "execute_result"
    }
   ],
   "source": [
    "# percentage of each class\n",
    "y.value_counts(normalize=True)"
   ]
  },
  {
   "attachments": {},
   "cell_type": "markdown",
   "metadata": {},
   "source": [
    "the target has **2** values so it's ***Binary***\n",
    "- ***0***: codes for **Negative**\n",
    "- ***1***: codes for **Positive**\n",
    "\n",
    "each one of those two values has approximately **50%** of the dataset which that the dataset is ***Balanced***\\\n",
    "as shown in this figure below"
   ]
  },
  {
   "cell_type": "code",
   "execution_count": 8,
   "metadata": {},
   "outputs": [
    {
     "data": {
      "image/png": "[encoded data removed]",
      "text/plain": [
       "<Figure size 640x480 with 1 Axes>"
      ]
     },
     "metadata": {},
     "output_type": "display_data"
    }
   ],
   "source": [
    "plt.pie(y.value_counts(),autopct= lambda x: f'{x:.1f}%')\n",
    "plt.legend(['Positive', 'Negative'])\n",
    "plt.title('pie chart of classes distribution')\n",
    "plt.show()"
   ]
  },
  {
   "attachments": {},
   "cell_type": "markdown",
   "metadata": {},
   "source": [
    "## tweets exploration"
   ]
  },
  {
   "cell_type": "code",
   "execution_count": 9,
   "metadata": {},
   "outputs": [
    {
     "data": {
      "text/plain": [
       "count             48000\n",
       "unique            47900\n",
       "top       Good morning \n",
       "freq                 10\n",
       "Name: tweet, dtype: object"
      ]
     },
     "execution_count": 9,
     "metadata": {},
     "output_type": "execute_result"
    }
   ],
   "source": [
    "X.describe()"
   ]
  },
  {
   "attachments": {},
   "cell_type": "markdown",
   "metadata": {},
   "source": [
    "we notice that there are ***47900*** unique tweets over ***48000*** --> there are duplicates\\\n",
    "the most repeated tweet is good morning with a frequency of ***10***\n",
    "- we will drop duplicates"
   ]
  },
  {
   "cell_type": "code",
   "execution_count": 10,
   "metadata": {},
   "outputs": [],
   "source": [
    "X = X.drop_duplicates()"
   ]
  },
  {
   "attachments": {},
   "cell_type": "markdown",
   "metadata": {},
   "source": [
    "### tweets length\n",
    "inorder to verify how many words each tweet has"
   ]
  },
  {
   "cell_type": "code",
   "execution_count": 11,
   "metadata": {},
   "outputs": [],
   "source": [
    "tweets_length= X.apply(lambda x: len(x.split()))"
   ]
  },
  {
   "cell_type": "code",
   "execution_count": 12,
   "metadata": {},
   "outputs": [
    {
     "data": {
      "text/plain": [
       "count    47900.000000\n",
       "mean        13.205950\n",
       "std          6.947981\n",
       "min          1.000000\n",
       "25%          7.000000\n",
       "50%         12.000000\n",
       "75%         19.000000\n",
       "max         41.000000\n",
       "Name: tweet, dtype: float64"
      ]
     },
     "execution_count": 12,
     "metadata": {},
     "output_type": "execute_result"
    }
   ],
   "source": [
    "tweets_length.describe()"
   ]
  },
  {
   "cell_type": "code",
   "execution_count": 13,
   "metadata": {},
   "outputs": [
    {
     "name": "stdout",
     "output_type": "stream",
     "text": [
      "max length of a tweet is: 41 words\n",
      "min length of a tweet is: 1 words\n",
      "mean length of a tweet is: 13.21 words\n",
      "median length of a tweet is: 12.0 words\n",
      "mode length of a tweet is: 8 words\n"
     ]
    }
   ],
   "source": [
    "print(f'max length of a tweet is: {tweets_length.max()} words')\n",
    "print(f'min length of a tweet is: {tweets_length.min()} words')\n",
    "print(f'mean length of a tweet is: {tweets_length.mean():.2f} words')\n",
    "print(f'median length of a tweet is: {tweets_length.median()} words')\n",
    "print(f'mode length of a tweet is: {tweets_length.mode()[0]} words')"
   ]
  },
  {
   "cell_type": "code",
   "execution_count": 14,
   "metadata": {},
   "outputs": [
    {
     "name": "stdout",
     "output_type": "stream",
     "text": [
      "66.92% of the tweets has a length between 6 and 20\n"
     ]
    }
   ],
   "source": [
    "l= int(tweets_length.mean() - tweets_length.std())\n",
    "r= int(tweets_length.mean() + tweets_length.std())\n",
    "print(f\"{tweets_length.between(left=l , right= r, inclusive='both').mean() * 100:.2f}% of the tweets has a length between {l} and {r}\")"
   ]
  },
  {
   "attachments": {},
   "cell_type": "markdown",
   "metadata": {},
   "source": [
    "the ***mean*** length of the tweets in the dataset is ***13*** words\\\n",
    "the ***longest*** one has ***41*** words and the ***shortest*** has ***1*** word\\\n",
    "approximately ***67%*** of the tweets have a length between ***6*** and ***20*** words\\\n",
    "often the tweets are ***8*** words length"
   ]
  },
  {
   "cell_type": "code",
   "execution_count": 15,
   "metadata": {},
   "outputs": [
    {
     "data": {
      "image/png": "[encoded data removed]",
      "text/plain": [
       "<Figure size 640x480 with 1 Axes>"
      ]
     },
     "metadata": {},
     "output_type": "display_data"
    }
   ],
   "source": [
    "sns.histplot(tweets_length, kde= True)\n",
    "plt.xlabel('number of words')\n",
    "plt.show()"
   ]
  },
  {
   "attachments": {},
   "cell_type": "markdown",
   "metadata": {},
   "source": [
    "### tweets content\n",
    "#### user mentions"
   ]
  },
  {
   "cell_type": "code",
   "execution_count": 16,
   "metadata": {},
   "outputs": [],
   "source": [
    "# counting the number of @ will give us the number of user mentions in a tweet\n",
    "user_mentions= X.apply(lambda x: x.count('@'))"
   ]
  },
  {
   "cell_type": "code",
   "execution_count": 17,
   "metadata": {},
   "outputs": [
    {
     "data": {
      "text/plain": [
       "count    47900.000000\n",
       "mean         0.503152\n",
       "std          0.600954\n",
       "min          0.000000\n",
       "25%          0.000000\n",
       "50%          0.000000\n",
       "75%          1.000000\n",
       "max         10.000000\n",
       "Name: tweet, dtype: float64"
      ]
     },
     "execution_count": 17,
     "metadata": {},
     "output_type": "execute_result"
    }
   ],
   "source": [
    "user_mentions.describe()"
   ]
  },
  {
   "cell_type": "code",
   "execution_count": 18,
   "metadata": {},
   "outputs": [
    {
     "data": {
      "image/png": "[encoded data removed]",
      "text/plain": [
       "<Figure size 640x480 with 1 Axes>"
      ]
     },
     "metadata": {},
     "output_type": "display_data"
    }
   ],
   "source": [
    "sns.histplot(user_mentions, kde= True)\n",
    "plt.xlabel('number of words')\n",
    "plt.show()"
   ]
  },
  {
   "cell_type": "code",
   "execution_count": 19,
   "metadata": {},
   "outputs": [
    {
     "name": "stdout",
     "output_type": "stream",
     "text": [
      "max mentions in a tweet is: 10 mentions\n",
      "min mentions in a tweet is: 0 mentions\n",
      "mean mentions in a tweet is: 0.50 mentions\n",
      "median mentions in a tweet is: 0.0 mentions\n",
      "mode mentions in a tweet is: 0 mentions\n"
     ]
    }
   ],
   "source": [
    "print(f'max mentions in a tweet is: {user_mentions.max()} mentions')\n",
    "print(f'min mentions in a tweet is: {user_mentions.min()} mentions')\n",
    "print(f'mean mentions in a tweet is: {user_mentions.mean():.2f} mentions')\n",
    "print(f'median mentions in a tweet is: {user_mentions.median()} mentions')\n",
    "print(f'mode mentions in a tweet is: {user_mentions.mode()[0]} mentions')"
   ]
  },
  {
   "cell_type": "code",
   "execution_count": 20,
   "metadata": {},
   "outputs": [
    {
     "name": "stdout",
     "output_type": "stream",
     "text": [
      "97.56% of the tweets have between 0 and 1 mentions\n"
     ]
    }
   ],
   "source": [
    "lm= int(user_mentions.mean() - user_mentions.std())\n",
    "rm= int(user_mentions.mean() + user_mentions.std())\n",
    "print(f\"{user_mentions.between(left=lm , right= rm, inclusive='both').mean() * 100:.2f}% of the tweets have between {lm} and {rm} mentions\")"
   ]
  },
  {
   "cell_type": "code",
   "execution_count": 21,
   "metadata": {},
   "outputs": [
    {
     "name": "stdout",
     "output_type": "stream",
     "text": [
      " 3.81% of tweets' content is user mentions\n"
     ]
    }
   ],
   "source": [
    "print(f'{user_mentions.sum()/tweets_length.sum()* 100: .2f}% of tweets\\' content is user mentions')"
   ]
  },
  {
   "attachments": {},
   "cell_type": "markdown",
   "metadata": {},
   "source": [
    "#### # mentions"
   ]
  },
  {
   "cell_type": "code",
   "execution_count": 22,
   "metadata": {},
   "outputs": [],
   "source": [
    "# counting the # occurences \n",
    "hashtag_mentions= X.apply(lambda x: x.count('#'))"
   ]
  },
  {
   "cell_type": "code",
   "execution_count": 23,
   "metadata": {},
   "outputs": [
    {
     "data": {
      "text/plain": [
       "count    47900.000000\n",
       "mean         0.027182\n",
       "std          0.195067\n",
       "min          0.000000\n",
       "25%          0.000000\n",
       "50%          0.000000\n",
       "75%          0.000000\n",
       "max          6.000000\n",
       "Name: tweet, dtype: float64"
      ]
     },
     "execution_count": 23,
     "metadata": {},
     "output_type": "execute_result"
    }
   ],
   "source": [
    "hashtag_mentions.describe()"
   ]
  },
  {
   "cell_type": "code",
   "execution_count": 24,
   "metadata": {},
   "outputs": [
    {
     "data": {
      "image/png": "[encoded data removed]",
      "text/plain": [
       "<Figure size 640x480 with 1 Axes>"
      ]
     },
     "metadata": {},
     "output_type": "display_data"
    }
   ],
   "source": [
    "sns.histplot(hashtag_mentions)\n",
    "plt.xlabel('number of words')\n",
    "plt.show()"
   ]
  },
  {
   "cell_type": "code",
   "execution_count": 25,
   "metadata": {},
   "outputs": [
    {
     "name": "stdout",
     "output_type": "stream",
     "text": [
      "max # mentions in a tweet is: 6 mentions\n",
      "min # mentions in a tweet is: 0 mentions\n",
      "mean # mentions in a tweet is: 0.03 mentions\n",
      "median # mentions in a tweet is: 0.0 mentions\n",
      "mode # mentions in a tweet is: 0 mentions\n"
     ]
    }
   ],
   "source": [
    "print(f'max # mentions in a tweet is: {hashtag_mentions.max()} mentions')\n",
    "print(f'min # mentions in a tweet is: {hashtag_mentions.min()} mentions')\n",
    "print(f'mean # mentions in a tweet is: {hashtag_mentions.mean():.2f} mentions')\n",
    "print(f'median # mentions in a tweet is: {hashtag_mentions.median()} mentions')\n",
    "print(f'mode # mentions in a tweet is: {hashtag_mentions.mode()[0]} mentions')"
   ]
  },
  {
   "cell_type": "code",
   "execution_count": 26,
   "metadata": {},
   "outputs": [
    {
     "name": "stdout",
     "output_type": "stream",
     "text": [
      " 0.21% of tweets' content is # mentions\n"
     ]
    }
   ],
   "source": [
    "print(f'{hashtag_mentions.sum()/tweets_length.sum()* 100: .2f}% of tweets\\' content is # mentions')"
   ]
  },
  {
   "attachments": {},
   "cell_type": "markdown",
   "metadata": {},
   "source": [
    "# Feature Engineering\n",
    "## initialisation\n",
    "we instanciate a ***Text2DF*** object inorder to do tweets cleaning, filtering and dataframing\\\n",
    "since we're doing sentiment analysis so we have some list of words that we want to keep"
   ]
  },
  {
   "cell_type": "code",
   "execution_count": 27,
   "metadata": {},
   "outputs": [],
   "source": [
    "words_to_keep= ['good', 'better', 'best', 'not', 'worst', 'worse', 'bad']\n",
    "t2df= Text2DF(keep_words= words_to_keep)"
   ]
  },
  {
   "attachments": {},
   "cell_type": "markdown",
   "metadata": {},
   "source": [
    "## tweet cleaning\n",
    "tweets can have @users, #tags, numbers and other symbols which are notusefu for our task so we have to delete those from our tweets"
   ]
  },
  {
   "cell_type": "code",
   "execution_count": 28,
   "metadata": {},
   "outputs": [],
   "source": [
    "# clean tweets\n",
    "cleaned_tweets= t2df.clean_texts(X)"
   ]
  },
  {
   "cell_type": "code",
   "execution_count": 29,
   "metadata": {},
   "outputs": [
    {
     "data": {
      "text/plain": [
       "count     47900\n",
       "unique    47100\n",
       "top            \n",
       "freq        112\n",
       "Name: tweet, dtype: object"
      ]
     },
     "execution_count": 29,
     "metadata": {},
     "output_type": "execute_result"
    }
   ],
   "source": [
    "cleaned_tweets.describe()"
   ]
  },
  {
   "attachments": {},
   "cell_type": "markdown",
   "metadata": {},
   "source": [
    "- this means there are **800** duplicate tweets\n",
    "- the most frequent one is the *empty* tweet"
   ]
  },
  {
   "cell_type": "code",
   "execution_count": 30,
   "metadata": {},
   "outputs": [],
   "source": [
    "cleaned_tweets= cleaned_tweets.drop_duplicates()"
   ]
  },
  {
   "attachments": {},
   "cell_type": "markdown",
   "metadata": {},
   "source": [
    "### verification\n",
    "let's verify about @mentions and #mentions"
   ]
  },
  {
   "cell_type": "code",
   "execution_count": 31,
   "metadata": {},
   "outputs": [
    {
     "name": "stdout",
     "output_type": "stream",
     "text": [
      "The number of @ mentions in the cleaned tweets is: 0\n",
      "The number of # mentions in the cleaned tweets is: 0\n",
      "the number of empty tweets is: 1\n"
     ]
    }
   ],
   "source": [
    "print(f\"The number of @ mentions in the cleaned tweets is: {cleaned_tweets.apply(lambda x: x.count('@')).sum()}\")\n",
    "print(f\"The number of # mentions in the cleaned tweets is: {cleaned_tweets.apply(lambda x: x.count('#')).sum()}\")\n",
    "print(f'the number of empty tweets is: {(cleaned_tweets== \"\").sum()}')"
   ]
  },
  {
   "attachments": {},
   "cell_type": "markdown",
   "metadata": {},
   "source": [
    "### tweets length"
   ]
  },
  {
   "cell_type": "code",
   "execution_count": 32,
   "metadata": {},
   "outputs": [],
   "source": [
    "# conting the words of each tweet\n",
    "cleaned_tweets_length= cleaned_tweets.apply(lambda x: len(x.split()))"
   ]
  },
  {
   "cell_type": "code",
   "execution_count": 33,
   "metadata": {},
   "outputs": [
    {
     "data": {
      "text/plain": [
       "count    47100.000000\n",
       "mean        13.120446\n",
       "std          7.062009\n",
       "min          0.000000\n",
       "25%          7.000000\n",
       "50%         12.000000\n",
       "75%         19.000000\n",
       "max         40.000000\n",
       "Name: tweet, dtype: float64"
      ]
     },
     "execution_count": 33,
     "metadata": {},
     "output_type": "execute_result"
    }
   ],
   "source": [
    "cleaned_tweets_length.describe()"
   ]
  },
  {
   "cell_type": "code",
   "execution_count": 34,
   "metadata": {},
   "outputs": [
    {
     "name": "stdout",
     "output_type": "stream",
     "text": [
      "max length of a cleaned tweet is: 40 words\n",
      "min length of a cleaned tweet is: 0 words\n",
      "mean length of a cleaned tweet is: 13.12 words\n",
      "median length of a cleaned tweet is: 12.0 words\n",
      "mode length of a cleaned tweet is: 8 words\n"
     ]
    }
   ],
   "source": [
    "print(f'max length of a cleaned tweet is: {cleaned_tweets_length.max()} words')\n",
    "print(f'min length of a cleaned tweet is: {cleaned_tweets_length.min()} words')\n",
    "print(f'mean length of a cleaned tweet is: {cleaned_tweets_length.mean():.2f} words')\n",
    "print(f'median length of a cleaned tweet is: {cleaned_tweets_length.median()} words')\n",
    "print(f'mode length of a cleaned tweet is: {cleaned_tweets_length.mode()[0]} words')"
   ]
  },
  {
   "cell_type": "code",
   "execution_count": 35,
   "metadata": {},
   "outputs": [
    {
     "name": "stdout",
     "output_type": "stream",
     "text": [
      "65.80% of the tweets has a length between 6 and 20\n"
     ]
    }
   ],
   "source": [
    "lc= int(cleaned_tweets_length.mean() - cleaned_tweets_length.std())\n",
    "rc= int(cleaned_tweets_length.mean() + cleaned_tweets_length.std())\n",
    "print(f\"{cleaned_tweets_length.between(left=lc , right= rc, inclusive='both').mean() * 100:.2f}% of the tweets has a length between {lc} and {rc}\")"
   ]
  },
  {
   "cell_type": "code",
   "execution_count": 36,
   "metadata": {},
   "outputs": [
    {
     "data": {
      "image/png": "[encoded data removed]",
      "text/plain": [
       "<Figure size 640x480 with 1 Axes>"
      ]
     },
     "metadata": {},
     "output_type": "display_data"
    }
   ],
   "source": [
    "sns.histplot(cleaned_tweets_length, kde= True)\n",
    "plt.xlabel('number of words')\n",
    "plt.show()"
   ]
  },
  {
   "attachments": {},
   "cell_type": "markdown",
   "metadata": {},
   "source": [
    "the ***mean*** length of the tweets in the dataset is ***13*** words\\\n",
    "the ***longest*** one has ***40*** words\\\n",
    "the ***shortest*** has ***0*** words\n",
    "- as expected there are some empty tweets 1 exactly since we dropped duplicates\n",
    "\n",
    "approximately ***66%*** of the tweets have a length between ***6*** and ***20*** words\\\n",
    "often the tweets are ***8*** words length\\\n",
    "The overall distribution didn't change "
   ]
  },
  {
   "attachments": {},
   "cell_type": "markdown",
   "metadata": {},
   "source": [
    "### empty tweets\n",
    "let's see the target corresponding to empty tweets"
   ]
  },
  {
   "attachments": {},
   "cell_type": "markdown",
   "metadata": {},
   "source": [
    "#### Indicies"
   ]
  },
  {
   "cell_type": "code",
   "execution_count": 37,
   "metadata": {},
   "outputs": [
    {
     "data": {
      "text/plain": [
       "Int64Index([62], dtype='int64')"
      ]
     },
     "execution_count": 37,
     "metadata": {},
     "output_type": "execute_result"
    }
   ],
   "source": [
    "# getting empty tweets indicies\n",
    "empty_tweets_index= cleaned_tweets[cleaned_tweets == ''].index\n",
    "empty_tweets_index"
   ]
  },
  {
   "attachments": {},
   "cell_type": "markdown",
   "metadata": {},
   "source": [
    "### new dataset"
   ]
  },
  {
   "cell_type": "code",
   "execution_count": 38,
   "metadata": {},
   "outputs": [],
   "source": [
    "cleaned_X= cleaned_tweets.drop(empty_tweets_index)"
   ]
  },
  {
   "cell_type": "code",
   "execution_count": 39,
   "metadata": {},
   "outputs": [
    {
     "data": {
      "text/plain": [
       "0    0.502176\n",
       "1    0.497824\n",
       "Name: Sentiment, dtype: float64"
      ]
     },
     "execution_count": 39,
     "metadata": {},
     "output_type": "execute_result"
    }
   ],
   "source": [
    "cleaned_y= y[cleaned_X.index].copy()# to align y values with the remaining tweets\n",
    "cleaned_y.value_counts(normalize=True)"
   ]
  },
  {
   "attachments": {},
   "cell_type": "markdown",
   "metadata": {},
   "source": [
    "The overall disparity of the target is unchanged"
   ]
  },
  {
   "cell_type": "code",
   "execution_count": 40,
   "metadata": {},
   "outputs": [],
   "source": [
    "cleaned_dataset= pd.concat([cleaned_y, cleaned_X], axis=1)# concatenating the Series to make new dataframe"
   ]
  },
  {
   "cell_type": "code",
   "execution_count": 41,
   "metadata": {},
   "outputs": [
    {
     "data": {
      "text/html": [
       "<div>\n",
       "<style scoped>\n",
       "    .dataframe tbody tr th:only-of-type {\n",
       "        vertical-align: middle;\n",
       "    }\n",
       "\n",
       "    .dataframe tbody tr th {\n",
       "        vertical-align: top;\n",
       "    }\n",
       "\n",
       "    .dataframe thead th {\n",
       "        text-align: right;\n",
       "    }\n",
       "</style>\n",
       "<table border=\"1\" class=\"dataframe\">\n",
       "  <thead>\n",
       "    <tr style=\"text-align: right;\">\n",
       "      <th></th>\n",
       "      <th>Sentiment</th>\n",
       "      <th>tweet</th>\n",
       "    </tr>\n",
       "  </thead>\n",
       "  <tbody>\n",
       "    <tr>\n",
       "      <th>0</th>\n",
       "      <td>0</td>\n",
       "      <td>my poor little dumpling in holmdel vids he was...</td>\n",
       "    </tr>\n",
       "    <tr>\n",
       "      <th>1</th>\n",
       "      <td>0</td>\n",
       "      <td>i m off too bed i gotta wake up hella early to...</td>\n",
       "    </tr>\n",
       "    <tr>\n",
       "      <th>2</th>\n",
       "      <td>0</td>\n",
       "      <td>i havent been able to listen to it yet my spea...</td>\n",
       "    </tr>\n",
       "    <tr>\n",
       "      <th>3</th>\n",
       "      <td>0</td>\n",
       "      <td>now remembers why solving a relatively big equ...</td>\n",
       "    </tr>\n",
       "    <tr>\n",
       "      <th>4</th>\n",
       "      <td>0</td>\n",
       "      <td>ate too much feel sick</td>\n",
       "    </tr>\n",
       "  </tbody>\n",
       "</table>\n",
       "</div>"
      ],
      "text/plain": [
       "   Sentiment                                              tweet\n",
       "0          0  my poor little dumpling in holmdel vids he was...\n",
       "1          0  i m off too bed i gotta wake up hella early to...\n",
       "2          0  i havent been able to listen to it yet my spea...\n",
       "3          0  now remembers why solving a relatively big equ...\n",
       "4          0                             ate too much feel sick"
      ]
     },
     "execution_count": 41,
     "metadata": {},
     "output_type": "execute_result"
    }
   ],
   "source": [
    "cleaned_dataset.head()"
   ]
  },
  {
   "cell_type": "code",
   "execution_count": 42,
   "metadata": {},
   "outputs": [],
   "source": [
    "cleaned_dataset.to_csv('../data/interim/cleaned_dataset.csv', index=False)"
   ]
  },
  {
   "attachments": {},
   "cell_type": "markdown",
   "metadata": {},
   "source": [
    "**NOTE**: From now on we will use the cleaned dataset"
   ]
  },
  {
   "attachments": {},
   "cell_type": "markdown",
   "metadata": {},
   "source": [
    "## Filtering\n",
    "Text2DF provides us methods allowing us filtering the text data, where we exclude all the words that are not in the the 10000 wordlist, and paying attention to keep the words in the keep_words given argument at instantiation"
   ]
  },
  {
   "cell_type": "code",
   "execution_count": 43,
   "metadata": {},
   "outputs": [],
   "source": [
    "# filtering the tweets\n",
    "# get_wordlist --> the default wordlist of 10000 most common words\n",
    "# get_stopwords --> 700+ english stop words\n",
    "# get_filtered_wordlist --> a list of words without stopwords\n",
    "filtered_tweets= t2df.filter_texts(cleaned_X, wordlist= t2df.get_filtered_wordlist())"
   ]
  },
  {
   "cell_type": "code",
   "execution_count": 44,
   "metadata": {},
   "outputs": [
    {
     "data": {
      "text/plain": [
       "(47099,)"
      ]
     },
     "execution_count": 44,
     "metadata": {},
     "output_type": "execute_result"
    }
   ],
   "source": [
    "cleaned_X.shape"
   ]
  },
  {
   "cell_type": "code",
   "execution_count": 45,
   "metadata": {},
   "outputs": [
    {
     "data": {
      "text/plain": [
       "count     47099\n",
       "unique    42977\n",
       "top            \n",
       "freq       1088\n",
       "Name: tweet, dtype: object"
      ]
     },
     "execution_count": 45,
     "metadata": {},
     "output_type": "execute_result"
    }
   ],
   "source": [
    "filtered_tweets.describe()"
   ]
  },
  {
   "attachments": {},
   "cell_type": "markdown",
   "metadata": {},
   "source": [
    "- there are 42977 unique tweets over 47099, after filtering\n",
    "- 4122 repeated tweets\n",
    "- the empty tweet is the most frequent one"
   ]
  },
  {
   "cell_type": "code",
   "execution_count": 46,
   "metadata": {},
   "outputs": [],
   "source": [
    "filtered_tweets= filtered_tweets.drop_duplicates()"
   ]
  },
  {
   "attachments": {},
   "cell_type": "markdown",
   "metadata": {},
   "source": [
    "### filtered tweets length"
   ]
  },
  {
   "cell_type": "code",
   "execution_count": 47,
   "metadata": {},
   "outputs": [
    {
     "data": {
      "text/plain": [
       "count    42977.000000\n",
       "mean         5.612863\n",
       "std          2.930318\n",
       "min          0.000000\n",
       "25%          3.000000\n",
       "50%          5.000000\n",
       "75%          8.000000\n",
       "max         19.000000\n",
       "Name: tweet, dtype: float64"
      ]
     },
     "execution_count": 47,
     "metadata": {},
     "output_type": "execute_result"
    }
   ],
   "source": [
    "filtered_tweets_length= filtered_tweets.apply(lambda x: len(x.split()))\n",
    "filtered_tweets_length.describe()"
   ]
  },
  {
   "cell_type": "code",
   "execution_count": 48,
   "metadata": {},
   "outputs": [
    {
     "name": "stdout",
     "output_type": "stream",
     "text": [
      "max length of a filtered tweet is: 19 words\n",
      "min length of a filtered tweet is: 0 words\n",
      "mean length of a filtered tweet is: 5.61 words\n",
      "median length of a filtered tweet is: 5.0 words\n",
      "mode length of a filtered tweet is: 3 words\n"
     ]
    }
   ],
   "source": [
    "print(f'max length of a filtered tweet is: {filtered_tweets_length.max()} words')\n",
    "print(f'min length of a filtered tweet is: {filtered_tweets_length.min()} words')\n",
    "print(f'mean length of a filtered tweet is: {filtered_tweets_length.mean():.2f} words')\n",
    "print(f'median length of a filtered tweet is: {filtered_tweets_length.median()} words')\n",
    "print(f'mode length of a filtered tweet is: {filtered_tweets_length.mode()[0]} words')"
   ]
  },
  {
   "cell_type": "code",
   "execution_count": 49,
   "metadata": {},
   "outputs": [
    {
     "name": "stdout",
     "output_type": "stream",
     "text": [
      "79.56% of the tweets has a length between 2 and 8\n"
     ]
    }
   ],
   "source": [
    "lf= int(filtered_tweets_length.mean() - filtered_tweets_length.std())\n",
    "rf= int(filtered_tweets_length.mean() + filtered_tweets_length.std())\n",
    "print(f\"{filtered_tweets_length.between(left=lf , right= rf, inclusive='both').mean() * 100:.2f}% of the tweets has a length between {lf} and {rf}\")"
   ]
  },
  {
   "cell_type": "code",
   "execution_count": 50,
   "metadata": {},
   "outputs": [
    {
     "data": {
      "image/png": "[encoded data removed]",
      "text/plain": [
       "<Figure size 640x480 with 1 Axes>"
      ]
     },
     "metadata": {},
     "output_type": "display_data"
    }
   ],
   "source": [
    "sns.histplot(filtered_tweets_length, kde= True)\n",
    "plt.xlabel('number of words')\n",
    "plt.show()"
   ]
  },
  {
   "attachments": {},
   "cell_type": "markdown",
   "metadata": {},
   "source": [
    "the overall distribution changed a lot from cleaned version of the tweets"
   ]
  },
  {
   "attachments": {},
   "cell_type": "markdown",
   "metadata": {},
   "source": [
    "### empty tweet"
   ]
  },
  {
   "cell_type": "code",
   "execution_count": 51,
   "metadata": {},
   "outputs": [],
   "source": [
    "filtered_X= filtered_tweets[filtered_tweets != '']"
   ]
  },
  {
   "attachments": {},
   "cell_type": "markdown",
   "metadata": {},
   "source": [
    "### Comparison\n",
    "comparison between cleaned and filtered tweets"
   ]
  },
  {
   "cell_type": "code",
   "execution_count": 52,
   "metadata": {},
   "outputs": [
    {
     "data": {
      "text/html": [
       "<div>\n",
       "<style scoped>\n",
       "    .dataframe tbody tr th:only-of-type {\n",
       "        vertical-align: middle;\n",
       "    }\n",
       "\n",
       "    .dataframe tbody tr th {\n",
       "        vertical-align: top;\n",
       "    }\n",
       "\n",
       "    .dataframe thead th {\n",
       "        text-align: right;\n",
       "    }\n",
       "</style>\n",
       "<table border=\"1\" class=\"dataframe\">\n",
       "  <thead>\n",
       "    <tr style=\"text-align: right;\">\n",
       "      <th></th>\n",
       "      <th>tweet</th>\n",
       "      <th>tweet</th>\n",
       "    </tr>\n",
       "  </thead>\n",
       "  <tbody>\n",
       "    <tr>\n",
       "      <th>0</th>\n",
       "      <td>my poor little dumpling in holmdel vids he was...</td>\n",
       "      <td>poor little vids trying hope dont try hard ton...</td>\n",
       "    </tr>\n",
       "    <tr>\n",
       "      <th>1</th>\n",
       "      <td>i m off too bed i gotta wake up hella early to...</td>\n",
       "      <td>bed wake early tomorrow morning</td>\n",
       "    </tr>\n",
       "    <tr>\n",
       "      <th>2</th>\n",
       "      <td>i havent been able to listen to it yet my spea...</td>\n",
       "      <td>able listen speakers</td>\n",
       "    </tr>\n",
       "    <tr>\n",
       "      <th>3</th>\n",
       "      <td>now remembers why solving a relatively big equ...</td>\n",
       "      <td>now solving big equation total pain butt</td>\n",
       "    </tr>\n",
       "    <tr>\n",
       "      <th>4</th>\n",
       "      <td>ate too much feel sick</td>\n",
       "      <td>ate feel sick</td>\n",
       "    </tr>\n",
       "  </tbody>\n",
       "</table>\n",
       "</div>"
      ],
      "text/plain": [
       "                                               tweet  \\\n",
       "0  my poor little dumpling in holmdel vids he was...   \n",
       "1  i m off too bed i gotta wake up hella early to...   \n",
       "2  i havent been able to listen to it yet my spea...   \n",
       "3  now remembers why solving a relatively big equ...   \n",
       "4                             ate too much feel sick   \n",
       "\n",
       "                                               tweet  \n",
       "0  poor little vids trying hope dont try hard ton...  \n",
       "1                    bed wake early tomorrow morning  \n",
       "2                               able listen speakers  \n",
       "3           now solving big equation total pain butt  \n",
       "4                                      ate feel sick  "
      ]
     },
     "execution_count": 52,
     "metadata": {},
     "output_type": "execute_result"
    }
   ],
   "source": [
    "pd.concat([cleaned_X, filtered_tweets], axis=1,).head()\n",
    "# first column is cleaned version\n",
    "# second one is the filtered version"
   ]
  },
  {
   "attachments": {},
   "cell_type": "markdown",
   "metadata": {},
   "source": [
    "| stat | cleaned | filtered |\n",
    "|---|---|---|\n",
    "|max|40|19|\n",
    "|min|0|0|\n",
    "|mean|13|5|\n",
    "|median|12|5|\n",
    "|mode|8|3|"
   ]
  },
  {
   "attachments": {},
   "cell_type": "markdown",
   "metadata": {},
   "source": [
    "we can conclude that most of the words used in the tweets are most common ones or there are some\\\n",
    "writing issues "
   ]
  },
  {
   "cell_type": "code",
   "execution_count": 53,
   "metadata": {},
   "outputs": [
    {
     "name": "stdout",
     "output_type": "stream",
     "text": [
      "cleaned tweet:\n",
      "now i can never live my dream of looking out that giant window with all the people downstairs outside looking upp\n",
      "\n",
      "the filtered tweet:\n",
      "now can live dream looking giant window people looking\n"
     ]
    }
   ],
   "source": [
    "# some random examples\n",
    "# rerun with different random_state entry for other examples\n",
    "random_cleaned_tweet= cleaned_tweets.sample(1, random_state= 15)\n",
    "print(f'cleaned tweet:\\n{random_cleaned_tweet.iloc[0]}')\n",
    "print()\n",
    "print(f'the filtered tweet:\\n{filtered_tweets.loc[random_cleaned_tweet.index].iloc[0]}')\n"
   ]
  },
  {
   "attachments": {},
   "cell_type": "markdown",
   "metadata": {},
   "source": [
    "### filtered dataset"
   ]
  },
  {
   "cell_type": "code",
   "execution_count": 54,
   "metadata": {},
   "outputs": [
    {
     "data": {
      "text/plain": [
       "0    0.50484\n",
       "1    0.49516\n",
       "Name: Sentiment, dtype: float64"
      ]
     },
     "execution_count": 54,
     "metadata": {},
     "output_type": "execute_result"
    }
   ],
   "source": [
    "filtered_y= cleaned_y[filtered_X.index].copy()# to align y values with the remaining tweets\n",
    "filtered_y.value_counts(normalize=True)"
   ]
  },
  {
   "cell_type": "code",
   "execution_count": 55,
   "metadata": {},
   "outputs": [
    {
     "data": {
      "text/html": [
       "<div>\n",
       "<style scoped>\n",
       "    .dataframe tbody tr th:only-of-type {\n",
       "        vertical-align: middle;\n",
       "    }\n",
       "\n",
       "    .dataframe tbody tr th {\n",
       "        vertical-align: top;\n",
       "    }\n",
       "\n",
       "    .dataframe thead th {\n",
       "        text-align: right;\n",
       "    }\n",
       "</style>\n",
       "<table border=\"1\" class=\"dataframe\">\n",
       "  <thead>\n",
       "    <tr style=\"text-align: right;\">\n",
       "      <th></th>\n",
       "      <th>Sentiment</th>\n",
       "      <th>tweet</th>\n",
       "    </tr>\n",
       "  </thead>\n",
       "  <tbody>\n",
       "    <tr>\n",
       "      <th>0</th>\n",
       "      <td>0</td>\n",
       "      <td>poor little vids trying hope dont try hard ton...</td>\n",
       "    </tr>\n",
       "    <tr>\n",
       "      <th>1</th>\n",
       "      <td>0</td>\n",
       "      <td>bed wake early tomorrow morning</td>\n",
       "    </tr>\n",
       "    <tr>\n",
       "      <th>2</th>\n",
       "      <td>0</td>\n",
       "      <td>able listen speakers</td>\n",
       "    </tr>\n",
       "    <tr>\n",
       "      <th>3</th>\n",
       "      <td>0</td>\n",
       "      <td>now solving big equation total pain butt</td>\n",
       "    </tr>\n",
       "    <tr>\n",
       "      <th>4</th>\n",
       "      <td>0</td>\n",
       "      <td>ate feel sick</td>\n",
       "    </tr>\n",
       "  </tbody>\n",
       "</table>\n",
       "</div>"
      ],
      "text/plain": [
       "   Sentiment                                              tweet\n",
       "0          0  poor little vids trying hope dont try hard ton...\n",
       "1          0                    bed wake early tomorrow morning\n",
       "2          0                               able listen speakers\n",
       "3          0           now solving big equation total pain butt\n",
       "4          0                                      ate feel sick"
      ]
     },
     "execution_count": 55,
     "metadata": {},
     "output_type": "execute_result"
    }
   ],
   "source": [
    "filtered_dataset= pd.concat([filtered_y, filtered_X], axis=1)\n",
    "filtered_dataset.head()"
   ]
  },
  {
   "cell_type": "code",
   "execution_count": 56,
   "metadata": {},
   "outputs": [],
   "source": [
    "filtered_dataset.to_csv('../data/interim/filtered_dataset.csv', index=False)"
   ]
  }
 ],
 "metadata": {
  "kernelspec": {
   "display_name": "Python 3",
   "language": "python",
   "name": "python3"
  },
  "language_info": {
   "codemirror_mode": {
    "name": "ipython",
    "version": 3
   },
   "file_extension": ".py",
   "mimetype": "text/x-python",
   "name": "python",
   "nbconvert_exporter": "python",
   "pygments_lexer": "ipython3",
   "version": "3.8.10"
  },
  "orig_nbformat": 4
 },
 "nbformat": 4,
 "nbformat_minor": 2
}
