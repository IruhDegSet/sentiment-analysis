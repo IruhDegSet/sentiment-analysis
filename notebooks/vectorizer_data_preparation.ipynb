{
 "cells": [
  {
   "attachments": {},
   "cell_type": "markdown",
   "metadata": {},
   "source": [
    "# data preparation using vectorizer\n",
    "in this notebook we will use the sklearn vectorizer and bag of words"
   ]
  },
  {
   "cell_type": "code",
   "execution_count": 1,
   "metadata": {},
   "outputs": [],
   "source": [
    "import pandas as pd\n",
    "import numpy as np\n",
    "import matplotlib.pyplot as plt\n",
    "import seaborn as sns\n",
    "import os\n",
    "import re\n",
    "\n",
    "# for relative imports\n",
    "import sys\n",
    "sys.path.insert(0, '..')\n",
    "from src.data.text_2_dataframe import Text2DF"
   ]
  },
  {
   "attachments": {},
   "cell_type": "markdown",
   "metadata": {},
   "source": [
    "## initalizing the vectorizers"
   ]
  },
  {
   "cell_type": "code",
   "execution_count": 3,
   "metadata": {},
   "outputs": [],
   "source": [
    "# bag of words monogram\n",
    "CV1= Text2DF(vectorizer=True, ngrams_range= (1,1), use_wordlist= False, use_stopwords= False)\n",
    "\n",
    "# bag of words monogram using a vocabulary\n",
    "CV2= Text2DF(vectorizer=True, ngrams_range= (1,1), use_wordlist= True, use_stopwords= False)\n",
    "\n",
    "# bag of words monogram using vocabulary and avoiding stopwords\n",
    "CV3= Text2DF(vectorizer=True, ngrams_range= (1,1), use_wordlist= True, use_stopwords= True)\n",
    "\n",
    "# bag of words monogram avoiding stopwords\n",
    "CV4= Text2DF(vectorizer=True, ngrams_range= (1,1), use_wordlist= False, use_stopwords= True)\n",
    "\n",
    "# bag of words bigram\n",
    "CV5= Text2DF(vectorizer=True, ngrams_range= (2,2), use_wordlist= False, use_stopwords= False)"
   ]
  },
  {
   "cell_type": "code",
   "execution_count": null,
   "metadata": {},
   "outputs": [],
   "source": []
  }
 ],
 "metadata": {
  "kernelspec": {
   "display_name": "Python 3",
   "language": "python",
   "name": "python3"
  },
  "language_info": {
   "codemirror_mode": {
    "name": "ipython",
    "version": 3
   },
   "file_extension": ".py",
   "mimetype": "text/x-python",
   "name": "python",
   "nbconvert_exporter": "python",
   "pygments_lexer": "ipython3",
   "version": "3.8.10"
  },
  "orig_nbformat": 4
 },
 "nbformat": 4,
 "nbformat_minor": 2
}
